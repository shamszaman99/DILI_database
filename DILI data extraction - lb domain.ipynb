{
 "cells": [
  {
   "cell_type": "code",
   "execution_count": 30,
   "metadata": {
    "collapsed": true
   },
   "outputs": [],
   "source": [
    "import pandas as pd\n",
    "import os, fnmatch\n",
    "import xlrd\n",
    "import difflib\n",
    "import re\n",
    "             "
   ]
  },
  {
   "cell_type": "code",
   "execution_count": 31,
   "metadata": {
    "collapsed": true
   },
   "outputs": [],
   "source": [
    "# Importing Phase 2 lB data into pandas data frame\n",
    "df_dac = pd.read_sas(r'\\\\cdsesub1\\\\evsprod\\\\BLA761029\\\\0014\\\\m5\\\\datasets\\\\205ms201\\\\tabulations\\\\sdtm\\\\lb.xpt')"
   ]
  },
  {
   "cell_type": "code",
   "execution_count": 32,
   "metadata": {
    "collapsed": true
   },
   "outputs": [],
   "source": [
    "data_elements_file =  pd.ExcelFile(\"C:\\Users\\Md.Shamsuzzaman\\Documents\\OCS\\AIH\\data_elements_ver2.xlsx\")"
   ]
  },
  {
   "cell_type": "code",
   "execution_count": 33,
   "metadata": {
    "collapsed": false
   },
   "outputs": [],
   "source": [
    "# Load the xls file's Sheet1 as a dataframe\n",
    "df = data_elements_file.parse('LB')\n",
    "#df.head()"
   ]
  },
  {
   "cell_type": "code",
   "execution_count": 34,
   "metadata": {
    "collapsed": false
   },
   "outputs": [
    {
     "data": {
      "text/html": [
       "<div>\n",
       "<table border=\"1\" class=\"dataframe\">\n",
       "  <thead>\n",
       "    <tr style=\"text-align: right;\">\n",
       "      <th></th>\n",
       "      <th>Variable Name</th>\n",
       "      <th>Variable Label</th>\n",
       "      <th>Type</th>\n",
       "      <th>Controlled\n",
       "Terms, Codelist or Format</th>\n",
       "      <th>Role</th>\n",
       "      <th>CDISC Notes</th>\n",
       "      <th>Core</th>\n",
       "      <th>Remark</th>\n",
       "    </tr>\n",
       "  </thead>\n",
       "  <tbody>\n",
       "    <tr>\n",
       "      <th>22</th>\n",
       "      <td>LBDTC</td>\n",
       "      <td>Date/Time of Specimen\\nCollection</td>\n",
       "      <td>Char</td>\n",
       "      <td>ISO 8601</td>\n",
       "      <td>Timing</td>\n",
       "      <td>NaN</td>\n",
       "      <td>Exp</td>\n",
       "      <td>NaN</td>\n",
       "    </tr>\n",
       "    <tr>\n",
       "      <th>23</th>\n",
       "      <td>LBENDTC</td>\n",
       "      <td>End Date/Time of\\nSpecimen Collection</td>\n",
       "      <td>Char</td>\n",
       "      <td>ISO 8601</td>\n",
       "      <td>Timing</td>\n",
       "      <td>NaN</td>\n",
       "      <td>Perm</td>\n",
       "      <td>NaN</td>\n",
       "    </tr>\n",
       "    <tr>\n",
       "      <th>24</th>\n",
       "      <td>LBDY</td>\n",
       "      <td>Study Day of Specimen\\nCollection</td>\n",
       "      <td>Num</td>\n",
       "      <td>NaN</td>\n",
       "      <td>Timing</td>\n",
       "      <td>1. Study day of specimen collection, measured ...</td>\n",
       "      <td>Perm</td>\n",
       "      <td>NaN</td>\n",
       "    </tr>\n",
       "  </tbody>\n",
       "</table>\n",
       "</div>"
      ],
      "text/plain": [
       "   Variable Name                         Variable Label  Type  \\\n",
       "22         LBDTC      Date/Time of Specimen\\nCollection  Char   \n",
       "23       LBENDTC  End Date/Time of\\nSpecimen Collection  Char   \n",
       "24          LBDY      Study Day of Specimen\\nCollection   Num   \n",
       "\n",
       "   Controlled\\nTerms, Codelist or Format    Role  \\\n",
       "22                              ISO 8601  Timing   \n",
       "23                              ISO 8601  Timing   \n",
       "24                                   NaN  Timing   \n",
       "\n",
       "                                          CDISC Notes  Core Remark  \n",
       "22                                                NaN   Exp    NaN  \n",
       "23                                                NaN  Perm    NaN  \n",
       "24  1. Study day of specimen collection, measured ...  Perm    NaN  "
      ]
     },
     "execution_count": 34,
     "metadata": {},
     "output_type": "execute_result"
    }
   ],
   "source": [
    "# not collecting all the var at this moment - like ACTARM\n",
    "df = df.iloc[:25,:]\n",
    "df.tail(3)"
   ]
  },
  {
   "cell_type": "code",
   "execution_count": 35,
   "metadata": {
    "collapsed": true
   },
   "outputs": [],
   "source": [
    "# Data elements needs to be extracted from LB domains\n",
    "LB_data_elements = list(df['Variable Name'])"
   ]
  },
  {
   "cell_type": "code",
   "execution_count": 36,
   "metadata": {
    "collapsed": false
   },
   "outputs": [],
   "source": [
    "# Not all are present in Daclizumab LB domain. Hence, create an empty df with variables needed first\n",
    "\n",
    "lb_df = pd.DataFrame(index = range(len(df_dac)), columns = LB_data_elements)\n"
   ]
  },
  {
   "cell_type": "code",
   "execution_count": 37,
   "metadata": {
    "collapsed": true
   },
   "outputs": [],
   "source": [
    "# find common col var \n",
    "common_var = list(set(LB_data_elements).intersection(list(df_dac)))"
   ]
  },
  {
   "cell_type": "code",
   "execution_count": 38,
   "metadata": {
    "collapsed": false
   },
   "outputs": [
    {
     "data": {
      "text/plain": [
       "[u'APPLICID', u'LBTOX', u'LBENDTC', u'LBFAST', u'LBSTNRC']"
      ]
     },
     "execution_count": 38,
     "metadata": {},
     "output_type": "execute_result"
    }
   ],
   "source": [
    "# find the vars which are present in lb_df and missing in df_dac\n",
    "list(set(LB_data_elements) - set(common_var))"
   ]
  },
  {
   "cell_type": "code",
   "execution_count": 39,
   "metadata": {
    "collapsed": false
   },
   "outputs": [
    {
     "data": {
      "text/plain": [
       "[u'LBORRES',\n",
       " u'LBORRESU',\n",
       " u'LBORNRHI',\n",
       " u'LBSCAT',\n",
       " u'EPOCH',\n",
       " u'LBREFID',\n",
       " u'LBNAM',\n",
       " u'LBORNRLO',\n",
       " u'LBNRIND']"
      ]
     },
     "execution_count": 39,
     "metadata": {},
     "output_type": "execute_result"
    }
   ],
   "source": [
    "# find the vars which are present in df_dac and missing in lb_df\n",
    "list(set(list(df_dac)) - set(common_var))"
   ]
  },
  {
   "cell_type": "code",
   "execution_count": 40,
   "metadata": {
    "collapsed": true
   },
   "outputs": [],
   "source": [
    "# fill up the dm_df with daclizumab data\n",
    "lb_df['APPLICID'] = 'BLA761029'\n",
    "lb_df[common_var] = df_dac[common_var]"
   ]
  },
  {
   "cell_type": "code",
   "execution_count": 41,
   "metadata": {
    "collapsed": false
   },
   "outputs": [
    {
     "data": {
      "text/html": [
       "<div>\n",
       "<table border=\"1\" class=\"dataframe\">\n",
       "  <thead>\n",
       "    <tr style=\"text-align: right;\">\n",
       "      <th></th>\n",
       "      <th>APPLICID</th>\n",
       "      <th>STUDYID</th>\n",
       "      <th>DOMAIN</th>\n",
       "      <th>USUBJID</th>\n",
       "      <th>LBSEQ</th>\n",
       "      <th>LBTESTCD</th>\n",
       "      <th>LBTEST</th>\n",
       "      <th>LBCAT</th>\n",
       "      <th>LBSTRESC</th>\n",
       "      <th>LBSTRESN</th>\n",
       "      <th>...</th>\n",
       "      <th>LBREASND</th>\n",
       "      <th>LBBLFL</th>\n",
       "      <th>LBFAST</th>\n",
       "      <th>LBTOX</th>\n",
       "      <th>LBTOXGR</th>\n",
       "      <th>VISITNUM</th>\n",
       "      <th>VISIT</th>\n",
       "      <th>LBDTC</th>\n",
       "      <th>LBENDTC</th>\n",
       "      <th>LBDY</th>\n",
       "    </tr>\n",
       "  </thead>\n",
       "  <tbody>\n",
       "    <tr>\n",
       "      <th>0</th>\n",
       "      <td>BLA761029</td>\n",
       "      <td>205MS201</td>\n",
       "      <td>LB</td>\n",
       "      <td>205MS201/100-001</td>\n",
       "      <td>1.0</td>\n",
       "      <td>ALP</td>\n",
       "      <td>Alkaline Phosphatase</td>\n",
       "      <td>BLOOD CHEMISTRY</td>\n",
       "      <td>62</td>\n",
       "      <td>62.0</td>\n",
       "      <td>...</td>\n",
       "      <td></td>\n",
       "      <td></td>\n",
       "      <td>NaN</td>\n",
       "      <td>NaN</td>\n",
       "      <td>0</td>\n",
       "      <td>10.0</td>\n",
       "      <td>SCREENING</td>\n",
       "      <td>2010-02-05T10:30</td>\n",
       "      <td>NaN</td>\n",
       "      <td>-20.0</td>\n",
       "    </tr>\n",
       "    <tr>\n",
       "      <th>1</th>\n",
       "      <td>BLA761029</td>\n",
       "      <td>205MS201</td>\n",
       "      <td>LB</td>\n",
       "      <td>205MS201/100-001</td>\n",
       "      <td>2.0</td>\n",
       "      <td>ALT</td>\n",
       "      <td>Alanine Aminotransferase</td>\n",
       "      <td>BLOOD CHEMISTRY</td>\n",
       "      <td>18</td>\n",
       "      <td>18.0</td>\n",
       "      <td>...</td>\n",
       "      <td></td>\n",
       "      <td></td>\n",
       "      <td>NaN</td>\n",
       "      <td>NaN</td>\n",
       "      <td>0</td>\n",
       "      <td>10.0</td>\n",
       "      <td>SCREENING</td>\n",
       "      <td>2010-02-05T10:30</td>\n",
       "      <td>NaN</td>\n",
       "      <td>-20.0</td>\n",
       "    </tr>\n",
       "    <tr>\n",
       "      <th>2</th>\n",
       "      <td>BLA761029</td>\n",
       "      <td>205MS201</td>\n",
       "      <td>LB</td>\n",
       "      <td>205MS201/100-001</td>\n",
       "      <td>3.0</td>\n",
       "      <td>AST</td>\n",
       "      <td>Aspartate Aminotransferase</td>\n",
       "      <td>BLOOD CHEMISTRY</td>\n",
       "      <td>14</td>\n",
       "      <td>14.0</td>\n",
       "      <td>...</td>\n",
       "      <td></td>\n",
       "      <td></td>\n",
       "      <td>NaN</td>\n",
       "      <td>NaN</td>\n",
       "      <td>0</td>\n",
       "      <td>10.0</td>\n",
       "      <td>SCREENING</td>\n",
       "      <td>2010-02-05T10:30</td>\n",
       "      <td>NaN</td>\n",
       "      <td>-20.0</td>\n",
       "    </tr>\n",
       "    <tr>\n",
       "      <th>3</th>\n",
       "      <td>BLA761029</td>\n",
       "      <td>205MS201</td>\n",
       "      <td>LB</td>\n",
       "      <td>205MS201/100-001</td>\n",
       "      <td>4.0</td>\n",
       "      <td>BICARB</td>\n",
       "      <td>Bicarbonate</td>\n",
       "      <td>BLOOD CHEMISTRY</td>\n",
       "      <td>25.1</td>\n",
       "      <td>25.1</td>\n",
       "      <td>...</td>\n",
       "      <td></td>\n",
       "      <td></td>\n",
       "      <td>NaN</td>\n",
       "      <td>NaN</td>\n",
       "      <td></td>\n",
       "      <td>10.0</td>\n",
       "      <td>SCREENING</td>\n",
       "      <td>2010-02-05T10:30</td>\n",
       "      <td>NaN</td>\n",
       "      <td>-20.0</td>\n",
       "    </tr>\n",
       "    <tr>\n",
       "      <th>4</th>\n",
       "      <td>BLA761029</td>\n",
       "      <td>205MS201</td>\n",
       "      <td>LB</td>\n",
       "      <td>205MS201/100-001</td>\n",
       "      <td>5.0</td>\n",
       "      <td>BUN</td>\n",
       "      <td>Blood Urea Nitrogen</td>\n",
       "      <td>BLOOD CHEMISTRY</td>\n",
       "      <td>3</td>\n",
       "      <td>3.0</td>\n",
       "      <td>...</td>\n",
       "      <td></td>\n",
       "      <td></td>\n",
       "      <td>NaN</td>\n",
       "      <td>NaN</td>\n",
       "      <td></td>\n",
       "      <td>10.0</td>\n",
       "      <td>SCREENING</td>\n",
       "      <td>2010-02-05T10:30</td>\n",
       "      <td>NaN</td>\n",
       "      <td>-20.0</td>\n",
       "    </tr>\n",
       "  </tbody>\n",
       "</table>\n",
       "<p>5 rows × 25 columns</p>\n",
       "</div>"
      ],
      "text/plain": [
       "    APPLICID   STUDYID DOMAIN           USUBJID  LBSEQ LBTESTCD  \\\n",
       "0  BLA761029  205MS201     LB  205MS201/100-001    1.0      ALP   \n",
       "1  BLA761029  205MS201     LB  205MS201/100-001    2.0      ALT   \n",
       "2  BLA761029  205MS201     LB  205MS201/100-001    3.0      AST   \n",
       "3  BLA761029  205MS201     LB  205MS201/100-001    4.0   BICARB   \n",
       "4  BLA761029  205MS201     LB  205MS201/100-001    5.0      BUN   \n",
       "\n",
       "                       LBTEST            LBCAT LBSTRESC  LBSTRESN  ...   \\\n",
       "0        Alkaline Phosphatase  BLOOD CHEMISTRY       62      62.0  ...    \n",
       "1    Alanine Aminotransferase  BLOOD CHEMISTRY       18      18.0  ...    \n",
       "2  Aspartate Aminotransferase  BLOOD CHEMISTRY       14      14.0  ...    \n",
       "3                 Bicarbonate  BLOOD CHEMISTRY     25.1      25.1  ...    \n",
       "4         Blood Urea Nitrogen  BLOOD CHEMISTRY        3       3.0  ...    \n",
       "\n",
       "  LBREASND  LBBLFL  LBFAST LBTOX LBTOXGR VISITNUM      VISIT  \\\n",
       "0                      NaN   NaN       0     10.0  SCREENING   \n",
       "1                      NaN   NaN       0     10.0  SCREENING   \n",
       "2                      NaN   NaN       0     10.0  SCREENING   \n",
       "3                      NaN   NaN             10.0  SCREENING   \n",
       "4                      NaN   NaN             10.0  SCREENING   \n",
       "\n",
       "              LBDTC LBENDTC  LBDY  \n",
       "0  2010-02-05T10:30     NaN -20.0  \n",
       "1  2010-02-05T10:30     NaN -20.0  \n",
       "2  2010-02-05T10:30     NaN -20.0  \n",
       "3  2010-02-05T10:30     NaN -20.0  \n",
       "4  2010-02-05T10:30     NaN -20.0  \n",
       "\n",
       "[5 rows x 25 columns]"
      ]
     },
     "execution_count": 41,
     "metadata": {},
     "output_type": "execute_result"
    }
   ],
   "source": [
    "lb_df.head()"
   ]
  },
  {
   "cell_type": "code",
   "execution_count": 42,
   "metadata": {
    "collapsed": true
   },
   "outputs": [],
   "source": [
    "# Check the LBTEST code values\n",
    "dac_cd = set(list(lb_df['LBTESTCD']))"
   ]
  },
  {
   "cell_type": "code",
   "execution_count": 43,
   "metadata": {
    "collapsed": false
   },
   "outputs": [
    {
     "data": {
      "text/html": [
       "<div>\n",
       "<table border=\"1\" class=\"dataframe\">\n",
       "  <thead>\n",
       "    <tr style=\"text-align: right;\">\n",
       "      <th></th>\n",
       "      <th>LBTESTCD</th>\n",
       "      <th>LBTEST</th>\n",
       "      <th>LBTESTDSC</th>\n",
       "      <th>LBCAT</th>\n",
       "      <th>LBSTRESU</th>\n",
       "    </tr>\n",
       "  </thead>\n",
       "  <tbody>\n",
       "    <tr>\n",
       "      <th>120</th>\n",
       "      <td>HCVGTYPE</td>\n",
       "      <td>HCV Genotype</td>\n",
       "      <td>NaN</td>\n",
       "      <td>MICROBIOLOGY</td>\n",
       "      <td>NaN</td>\n",
       "    </tr>\n",
       "    <tr>\n",
       "      <th>121</th>\n",
       "      <td>HCRTQE</td>\n",
       "      <td>HCV RNA Taq 2.0-Exp</td>\n",
       "      <td>NaN</td>\n",
       "      <td>HEMATOLOGY</td>\n",
       "      <td>NaN</td>\n",
       "    </tr>\n",
       "    <tr>\n",
       "      <th>122</th>\n",
       "      <td>HEVRNA</td>\n",
       "      <td>Hepatitis E Virus RNA</td>\n",
       "      <td>NaN</td>\n",
       "      <td>HEMATOLOGY</td>\n",
       "      <td>NaN</td>\n",
       "    </tr>\n",
       "    <tr>\n",
       "      <th>123</th>\n",
       "      <td>HIGMC</td>\n",
       "      <td>Herpes Sim.Virus 1/2 IgM IFA Confirm</td>\n",
       "      <td>NaN</td>\n",
       "      <td>SPECIAL CHEMISTRY</td>\n",
       "      <td>NaN</td>\n",
       "    </tr>\n",
       "    <tr>\n",
       "      <th>124</th>\n",
       "      <td>HIGMIN</td>\n",
       "      <td>Herpes Sim.Virus 1/2 IgM Interpretation</td>\n",
       "      <td>NaN</td>\n",
       "      <td>MICROBIOLOGY</td>\n",
       "      <td>NaN</td>\n",
       "    </tr>\n",
       "  </tbody>\n",
       "</table>\n",
       "</div>"
      ],
      "text/plain": [
       "     LBTESTCD                                   LBTEST LBTESTDSC  \\\n",
       "120  HCVGTYPE                             HCV Genotype       NaN   \n",
       "121    HCRTQE                      HCV RNA Taq 2.0-Exp       NaN   \n",
       "122    HEVRNA                    Hepatitis E Virus RNA       NaN   \n",
       "123     HIGMC     Herpes Sim.Virus 1/2 IgM IFA Confirm       NaN   \n",
       "124    HIGMIN  Herpes Sim.Virus 1/2 IgM Interpretation       NaN   \n",
       "\n",
       "                 LBCAT LBSTRESU  \n",
       "120       MICROBIOLOGY      NaN  \n",
       "121         HEMATOLOGY      NaN  \n",
       "122         HEMATOLOGY      NaN  \n",
       "123  SPECIAL CHEMISTRY      NaN  \n",
       "124       MICROBIOLOGY      NaN  "
      ]
     },
     "execution_count": 43,
     "metadata": {},
     "output_type": "execute_result"
    }
   ],
   "source": [
    "# Load the xls file's Sheet1 as a dataframe\n",
    "df_code = data_elements_file.parse('LB CodeList')\n",
    "df_code = df_code.iloc[:125,:]\n",
    "df_code.tail(5)"
   ]
  },
  {
   "cell_type": "code",
   "execution_count": 44,
   "metadata": {
    "collapsed": true
   },
   "outputs": [],
   "source": [
    "# code elements needs to be extracted from LB domains\n",
    "req_code = list(df_code['LBTESTCD'])"
   ]
  },
  {
   "cell_type": "code",
   "execution_count": 45,
   "metadata": {
    "collapsed": true
   },
   "outputs": [],
   "source": [
    "# find common col var \n",
    "common_var = list(set(req_code).intersection(list(dac_cd)))"
   ]
  },
  {
   "cell_type": "code",
   "execution_count": 46,
   "metadata": {
    "collapsed": true
   },
   "outputs": [],
   "source": [
    "# find the code which are present in lb_df and missing in dac_cd\n",
    "unique_req_cd = list(set(req_code) - set(common_var))"
   ]
  },
  {
   "cell_type": "code",
   "execution_count": 47,
   "metadata": {
    "collapsed": true
   },
   "outputs": [],
   "source": [
    "# find the code which are unique to dac_code\n",
    "unique_dac_cd = list(set(dac_cd) - set(common_var))"
   ]
  },
  {
   "cell_type": "code",
   "execution_count": 48,
   "metadata": {
    "collapsed": true
   },
   "outputs": [],
   "source": [
    "df_dac_unique = df_dac.drop_duplicates(['LBTESTCD'], keep = 'first')"
   ]
  },
  {
   "cell_type": "code",
   "execution_count": 49,
   "metadata": {
    "collapsed": true
   },
   "outputs": [],
   "source": [
    "# req_code df with unique req code \n",
    "unique_df_code = df_code[df_code.LBTESTCD.isin(unique_req_cd)]"
   ]
  },
  {
   "cell_type": "code",
   "execution_count": 50,
   "metadata": {
    "collapsed": true
   },
   "outputs": [],
   "source": [
    "#dac_df with unique dac_code \n",
    "df_dac_unique = df_dac_unique[df_dac_unique.LBTESTCD.isin(unique_dac_cd)]"
   ]
  },
  {
   "cell_type": "code",
   "execution_count": 51,
   "metadata": {
    "collapsed": true
   },
   "outputs": [],
   "source": [
    "# dac_df dictionary with unique LBTEST and LBTESTCD\n",
    "unique_dac_lbtest = dict(zip(df_dac_unique.LBTESTCD,df_dac_unique.LBTEST))"
   ]
  },
  {
   "cell_type": "code",
   "execution_count": 52,
   "metadata": {
    "collapsed": true
   },
   "outputs": [],
   "source": [
    "# req_code_df dictionary with unique LBTEST and LBTESTCD\n",
    "unique_req_lbtest = dict(zip(unique_df_code.LBTESTCD,unique_df_code.LBTEST))"
   ]
  },
  {
   "cell_type": "code",
   "execution_count": 53,
   "metadata": {
    "collapsed": false
   },
   "outputs": [
    {
     "name": "stdout",
     "output_type": "stream",
     "text": [
      "Urea Nitrogen \t\tBlood Urea Nitrogen \t\tUREAN \t\tBUN\n",
      "Triacylglycerol Lipase (U/L) \t\tTriacylglycerol Lipase \t\tLIPASET \t\tLIPASE\n",
      "Lymphocytes Activated  \t\tLymphocytes Atypical \t\tLYMA \t\tLYMAT\n",
      "Eosinophils/Total Cells \t\tEosinophils/Leukocytes \t\tEOSCE \t\tEOSLE\n",
      "Lymphocytes/Total Cells \t\tLymphocytes/Leukocytes \t\tLYMCE \t\tLYMLE\n"
     ]
    }
   ],
   "source": [
    "for k,v in unique_req_lbtest.items():\n",
    "    for k1,v1 in unique_dac_lbtest.items():\n",
    "        if difflib.SequenceMatcher(None,v,v1).ratio() >=0.7 :\n",
    "            print v,'\\t\\t',v1,'\\t\\t',k,'\\t\\t',k1"
   ]
  },
  {
   "cell_type": "code",
   "execution_count": 54,
   "metadata": {
    "collapsed": false
   },
   "outputs": [],
   "source": [
    "# Dict to replace the LBTESTCD with\n",
    "matched_LBTESTCD = {'Lipase' : 'LIPASET', 'UREAN':'BUN'}"
   ]
  },
  {
   "cell_type": "code",
   "execution_count": 78,
   "metadata": {
    "collapsed": false
   },
   "outputs": [],
   "source": [
    "#lb_df.ix[lb_df.LBTESTCD == 'BUN', 'LBTESTCD'] = 'UREAN'"
   ]
  },
  {
   "cell_type": "code",
   "execution_count": 55,
   "metadata": {
    "collapsed": true
   },
   "outputs": [],
   "source": [
    "# Replace non SDTM LBTSTCDs with SDTM LBTSTCDs\n",
    "for k, v in matched_LBTESTCD.items():\n",
    "    lb_df.ix[lb_df.LBTESTCD == v, 'LBTESTCD'] = k"
   ]
  },
  {
   "cell_type": "code",
   "execution_count": 27,
   "metadata": {
    "collapsed": true
   },
   "outputs": [],
   "source": [
    "# drop rows which are not present in req_code\n",
    "lb_df = lb_df[lb_df['LBTESTCD'].isin(req_code)]"
   ]
  },
  {
   "cell_type": "code",
   "execution_count": 28,
   "metadata": {
    "collapsed": false
   },
   "outputs": [],
   "source": [
    "lb_df.to_csv(\"C:/Users/Md.Shamsuzzaman/Documents/OCS/AIH/Daclizumab/205MS201_lb-5.csv\",index = False)"
   ]
  },
  {
   "cell_type": "code",
   "execution_count": 89,
   "metadata": {
    "collapsed": false
   },
   "outputs": [
    {
     "data": {
      "text/html": [
       "<div>\n",
       "<table border=\"1\" class=\"dataframe\">\n",
       "  <thead>\n",
       "    <tr style=\"text-align: right;\">\n",
       "      <th></th>\n",
       "      <th>APPLICID</th>\n",
       "      <th>STUDYID</th>\n",
       "      <th>DOMAIN</th>\n",
       "      <th>USUBJID</th>\n",
       "      <th>LBSEQ</th>\n",
       "      <th>LBTESTCD</th>\n",
       "      <th>LBTEST</th>\n",
       "      <th>LBCAT</th>\n",
       "      <th>LBSTRESC</th>\n",
       "      <th>LBSTRESN</th>\n",
       "      <th>...</th>\n",
       "      <th>LBREASND</th>\n",
       "      <th>LBBLFL</th>\n",
       "      <th>LBFAST</th>\n",
       "      <th>LBTOX</th>\n",
       "      <th>LBTOXGR</th>\n",
       "      <th>VISITNUM</th>\n",
       "      <th>VISIT</th>\n",
       "      <th>LBDTC</th>\n",
       "      <th>LBENDTC</th>\n",
       "      <th>LBDY</th>\n",
       "    </tr>\n",
       "  </thead>\n",
       "  <tbody>\n",
       "    <tr>\n",
       "      <th>0</th>\n",
       "      <td>BLA761029</td>\n",
       "      <td>205MS201</td>\n",
       "      <td>LB</td>\n",
       "      <td>205MS201/100-001</td>\n",
       "      <td>1.0</td>\n",
       "      <td>ALP</td>\n",
       "      <td>Alkaline Phosphatase</td>\n",
       "      <td>BLOOD CHEMISTRY</td>\n",
       "      <td>62</td>\n",
       "      <td>62.0</td>\n",
       "      <td>...</td>\n",
       "      <td></td>\n",
       "      <td></td>\n",
       "      <td>NaN</td>\n",
       "      <td>NaN</td>\n",
       "      <td>0</td>\n",
       "      <td>10.0</td>\n",
       "      <td>SCREENING</td>\n",
       "      <td>2010-02-05T10:30</td>\n",
       "      <td>NaN</td>\n",
       "      <td>-20.0</td>\n",
       "    </tr>\n",
       "    <tr>\n",
       "      <th>1</th>\n",
       "      <td>BLA761029</td>\n",
       "      <td>205MS201</td>\n",
       "      <td>LB</td>\n",
       "      <td>205MS201/100-001</td>\n",
       "      <td>2.0</td>\n",
       "      <td>ALT</td>\n",
       "      <td>Alanine Aminotransferase</td>\n",
       "      <td>BLOOD CHEMISTRY</td>\n",
       "      <td>18</td>\n",
       "      <td>18.0</td>\n",
       "      <td>...</td>\n",
       "      <td></td>\n",
       "      <td></td>\n",
       "      <td>NaN</td>\n",
       "      <td>NaN</td>\n",
       "      <td>0</td>\n",
       "      <td>10.0</td>\n",
       "      <td>SCREENING</td>\n",
       "      <td>2010-02-05T10:30</td>\n",
       "      <td>NaN</td>\n",
       "      <td>-20.0</td>\n",
       "    </tr>\n",
       "    <tr>\n",
       "      <th>2</th>\n",
       "      <td>BLA761029</td>\n",
       "      <td>205MS201</td>\n",
       "      <td>LB</td>\n",
       "      <td>205MS201/100-001</td>\n",
       "      <td>3.0</td>\n",
       "      <td>AST</td>\n",
       "      <td>Aspartate Aminotransferase</td>\n",
       "      <td>BLOOD CHEMISTRY</td>\n",
       "      <td>14</td>\n",
       "      <td>14.0</td>\n",
       "      <td>...</td>\n",
       "      <td></td>\n",
       "      <td></td>\n",
       "      <td>NaN</td>\n",
       "      <td>NaN</td>\n",
       "      <td>0</td>\n",
       "      <td>10.0</td>\n",
       "      <td>SCREENING</td>\n",
       "      <td>2010-02-05T10:30</td>\n",
       "      <td>NaN</td>\n",
       "      <td>-20.0</td>\n",
       "    </tr>\n",
       "    <tr>\n",
       "      <th>3</th>\n",
       "      <td>BLA761029</td>\n",
       "      <td>205MS201</td>\n",
       "      <td>LB</td>\n",
       "      <td>205MS201/100-001</td>\n",
       "      <td>4.0</td>\n",
       "      <td>BICARB</td>\n",
       "      <td>Bicarbonate</td>\n",
       "      <td>BLOOD CHEMISTRY</td>\n",
       "      <td>25.1</td>\n",
       "      <td>25.1</td>\n",
       "      <td>...</td>\n",
       "      <td></td>\n",
       "      <td></td>\n",
       "      <td>NaN</td>\n",
       "      <td>NaN</td>\n",
       "      <td></td>\n",
       "      <td>10.0</td>\n",
       "      <td>SCREENING</td>\n",
       "      <td>2010-02-05T10:30</td>\n",
       "      <td>NaN</td>\n",
       "      <td>-20.0</td>\n",
       "    </tr>\n",
       "    <tr>\n",
       "      <th>4</th>\n",
       "      <td>BLA761029</td>\n",
       "      <td>205MS201</td>\n",
       "      <td>LB</td>\n",
       "      <td>205MS201/100-001</td>\n",
       "      <td>5.0</td>\n",
       "      <td>UREAN</td>\n",
       "      <td>Blood Urea Nitrogen</td>\n",
       "      <td>BLOOD CHEMISTRY</td>\n",
       "      <td>3</td>\n",
       "      <td>3.0</td>\n",
       "      <td>...</td>\n",
       "      <td></td>\n",
       "      <td></td>\n",
       "      <td>NaN</td>\n",
       "      <td>NaN</td>\n",
       "      <td></td>\n",
       "      <td>10.0</td>\n",
       "      <td>SCREENING</td>\n",
       "      <td>2010-02-05T10:30</td>\n",
       "      <td>NaN</td>\n",
       "      <td>-20.0</td>\n",
       "    </tr>\n",
       "  </tbody>\n",
       "</table>\n",
       "<p>5 rows × 25 columns</p>\n",
       "</div>"
      ],
      "text/plain": [
       "    APPLICID   STUDYID DOMAIN           USUBJID  LBSEQ LBTESTCD  \\\n",
       "0  BLA761029  205MS201     LB  205MS201/100-001    1.0      ALP   \n",
       "1  BLA761029  205MS201     LB  205MS201/100-001    2.0      ALT   \n",
       "2  BLA761029  205MS201     LB  205MS201/100-001    3.0      AST   \n",
       "3  BLA761029  205MS201     LB  205MS201/100-001    4.0   BICARB   \n",
       "4  BLA761029  205MS201     LB  205MS201/100-001    5.0    UREAN   \n",
       "\n",
       "                       LBTEST            LBCAT LBSTRESC  LBSTRESN  ...   \\\n",
       "0        Alkaline Phosphatase  BLOOD CHEMISTRY       62      62.0  ...    \n",
       "1    Alanine Aminotransferase  BLOOD CHEMISTRY       18      18.0  ...    \n",
       "2  Aspartate Aminotransferase  BLOOD CHEMISTRY       14      14.0  ...    \n",
       "3                 Bicarbonate  BLOOD CHEMISTRY     25.1      25.1  ...    \n",
       "4         Blood Urea Nitrogen  BLOOD CHEMISTRY        3       3.0  ...    \n",
       "\n",
       "  LBREASND  LBBLFL  LBFAST LBTOX LBTOXGR VISITNUM      VISIT  \\\n",
       "0                      NaN   NaN       0     10.0  SCREENING   \n",
       "1                      NaN   NaN       0     10.0  SCREENING   \n",
       "2                      NaN   NaN       0     10.0  SCREENING   \n",
       "3                      NaN   NaN             10.0  SCREENING   \n",
       "4                      NaN   NaN             10.0  SCREENING   \n",
       "\n",
       "              LBDTC LBENDTC  LBDY  \n",
       "0  2010-02-05T10:30     NaN -20.0  \n",
       "1  2010-02-05T10:30     NaN -20.0  \n",
       "2  2010-02-05T10:30     NaN -20.0  \n",
       "3  2010-02-05T10:30     NaN -20.0  \n",
       "4  2010-02-05T10:30     NaN -20.0  \n",
       "\n",
       "[5 rows x 25 columns]"
      ]
     },
     "execution_count": 89,
     "metadata": {},
     "output_type": "execute_result"
    }
   ],
   "source": [
    "lb_df.head()"
   ]
  },
  {
   "cell_type": "code",
   "execution_count": 56,
   "metadata": {
    "collapsed": false
   },
   "outputs": [
    {
     "data": {
      "text/plain": [
       "99"
      ]
     },
     "execution_count": 56,
     "metadata": {},
     "output_type": "execute_result"
    }
   ],
   "source": [
    "lb_df.LBTESTCD.nunique()"
   ]
  },
  {
   "cell_type": "code",
   "execution_count": null,
   "metadata": {
    "collapsed": true
   },
   "outputs": [],
   "source": []
  }
 ],
 "metadata": {
  "kernelspec": {
   "display_name": "Python 2",
   "language": "python",
   "name": "python2"
  },
  "language_info": {
   "codemirror_mode": {
    "name": "ipython",
    "version": 2
   },
   "file_extension": ".py",
   "mimetype": "text/x-python",
   "name": "python",
   "nbconvert_exporter": "python",
   "pygments_lexer": "ipython2",
   "version": "2.7.11"
  }
 },
 "nbformat": 4,
 "nbformat_minor": 2
}
